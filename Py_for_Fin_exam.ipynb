{
 "cells": [
  {
   "cell_type": "markdown",
   "metadata": {},
   "source": [
    "# Take Home Exam - Python for Finance - MaBDA - E.Gallo "
   ]
  },
  {
   "cell_type": "code",
   "execution_count": 105,
   "metadata": {},
   "outputs": [],
   "source": [
    "import numpy as np\n",
    "import pandas as pd\n",
    "import matplotlib.pyplot as plt\n",
    "import statsmodels.api as smf\n",
    "from scipy.stats import kurtosis, skew"
   ]
  },
  {
   "cell_type": "code",
   "execution_count": 107,
   "metadata": {
    "scrolled": true
   },
   "outputs": [
    {
     "data": {
      "text/html": [
       "<div>\n",
       "<style scoped>\n",
       "    .dataframe tbody tr th:only-of-type {\n",
       "        vertical-align: middle;\n",
       "    }\n",
       "\n",
       "    .dataframe tbody tr th {\n",
       "        vertical-align: top;\n",
       "    }\n",
       "\n",
       "    .dataframe thead th {\n",
       "        text-align: right;\n",
       "    }\n",
       "</style>\n",
       "<table border=\"1\" class=\"dataframe\">\n",
       "  <thead>\n",
       "    <tr style=\"text-align: right;\">\n",
       "      <th></th>\n",
       "      <th>Start Date</th>\n",
       "      <th>2017-10-31 00:00:00</th>\n",
       "      <th>Unnamed: 2</th>\n",
       "      <th>Unnamed: 3</th>\n",
       "      <th>Unnamed: 4</th>\n",
       "      <th>Unnamed: 5</th>\n",
       "      <th>Unnamed: 6</th>\n",
       "    </tr>\n",
       "  </thead>\n",
       "  <tbody>\n",
       "    <tr>\n",
       "      <th>0</th>\n",
       "      <td>End Date</td>\n",
       "      <td>NaN</td>\n",
       "      <td>NaN</td>\n",
       "      <td>NaN</td>\n",
       "      <td>NaN</td>\n",
       "      <td>NaN</td>\n",
       "      <td>NaN</td>\n",
       "    </tr>\n",
       "    <tr>\n",
       "      <th>1</th>\n",
       "      <td>NaN</td>\n",
       "      <td>NaN</td>\n",
       "      <td>NaN</td>\n",
       "      <td>NaN</td>\n",
       "      <td>NaN</td>\n",
       "      <td>NaN</td>\n",
       "      <td>NaN</td>\n",
       "    </tr>\n",
       "    <tr>\n",
       "      <th>2</th>\n",
       "      <td>NaN</td>\n",
       "      <td>FTSEMIB Index</td>\n",
       "      <td>FCA IM Equity</td>\n",
       "      <td>UCG IM Equity</td>\n",
       "      <td>ISP IM Equity</td>\n",
       "      <td>ENI IM Equity</td>\n",
       "      <td>LUX IM Equity</td>\n",
       "    </tr>\n",
       "    <tr>\n",
       "      <th>3</th>\n",
       "      <td>NaN</td>\n",
       "      <td>NaN</td>\n",
       "      <td>NaN</td>\n",
       "      <td>NaN</td>\n",
       "      <td>NaN</td>\n",
       "      <td>NaN</td>\n",
       "      <td>NaN</td>\n",
       "    </tr>\n",
       "    <tr>\n",
       "      <th>4</th>\n",
       "      <td>Dates</td>\n",
       "      <td>PX_LAST</td>\n",
       "      <td>PX_LAST</td>\n",
       "      <td>PX_LAST</td>\n",
       "      <td>PX_LAST</td>\n",
       "      <td>PX_LAST</td>\n",
       "      <td>PX_LAST</td>\n",
       "    </tr>\n",
       "    <tr>\n",
       "      <th>5</th>\n",
       "      <td>2017-10-31 00:00:00</td>\n",
       "      <td>22793.7</td>\n",
       "      <td>14.84</td>\n",
       "      <td>16.43</td>\n",
       "      <td>2.886</td>\n",
       "      <td>14.04</td>\n",
       "      <td>49.24</td>\n",
       "    </tr>\n",
       "    <tr>\n",
       "      <th>6</th>\n",
       "      <td>2017-11-01 00:00:00</td>\n",
       "      <td>22992</td>\n",
       "      <td>15.15</td>\n",
       "      <td>16.46</td>\n",
       "      <td>2.878</td>\n",
       "      <td>14.22</td>\n",
       "      <td>48.98</td>\n",
       "    </tr>\n",
       "    <tr>\n",
       "      <th>7</th>\n",
       "      <td>2017-11-02 00:00:00</td>\n",
       "      <td>23046</td>\n",
       "      <td>15.29</td>\n",
       "      <td>16.76</td>\n",
       "      <td>2.866</td>\n",
       "      <td>14.3</td>\n",
       "      <td>48.7</td>\n",
       "    </tr>\n",
       "    <tr>\n",
       "      <th>8</th>\n",
       "      <td>2017-11-03 00:00:00</td>\n",
       "      <td>23014.1</td>\n",
       "      <td>15.66</td>\n",
       "      <td>16.39</td>\n",
       "      <td>2.85</td>\n",
       "      <td>14.38</td>\n",
       "      <td>48.72</td>\n",
       "    </tr>\n",
       "    <tr>\n",
       "      <th>9</th>\n",
       "      <td>2017-11-06 00:00:00</td>\n",
       "      <td>23002.8</td>\n",
       "      <td>15.59</td>\n",
       "      <td>16.3</td>\n",
       "      <td>2.842</td>\n",
       "      <td>14.5</td>\n",
       "      <td>49.13</td>\n",
       "    </tr>\n",
       "  </tbody>\n",
       "</table>\n",
       "</div>"
      ],
      "text/plain": [
       "            Start Date 2017-10-31 00:00:00     Unnamed: 2     Unnamed: 3  \\\n",
       "0             End Date                 NaN            NaN            NaN   \n",
       "1                  NaN                 NaN            NaN            NaN   \n",
       "2                  NaN       FTSEMIB Index  FCA IM Equity  UCG IM Equity   \n",
       "3                  NaN                 NaN            NaN            NaN   \n",
       "4                Dates             PX_LAST        PX_LAST        PX_LAST   \n",
       "5  2017-10-31 00:00:00             22793.7          14.84          16.43   \n",
       "6  2017-11-01 00:00:00               22992          15.15          16.46   \n",
       "7  2017-11-02 00:00:00               23046          15.29          16.76   \n",
       "8  2017-11-03 00:00:00             23014.1          15.66          16.39   \n",
       "9  2017-11-06 00:00:00             23002.8          15.59           16.3   \n",
       "\n",
       "      Unnamed: 4     Unnamed: 5     Unnamed: 6  \n",
       "0            NaN            NaN            NaN  \n",
       "1            NaN            NaN            NaN  \n",
       "2  ISP IM Equity  ENI IM Equity  LUX IM Equity  \n",
       "3            NaN            NaN            NaN  \n",
       "4        PX_LAST        PX_LAST        PX_LAST  \n",
       "5          2.886          14.04          49.24  \n",
       "6          2.878          14.22          48.98  \n",
       "7          2.866           14.3           48.7  \n",
       "8           2.85          14.38          48.72  \n",
       "9          2.842           14.5          49.13  "
      ]
     },
     "execution_count": 107,
     "metadata": {},
     "output_type": "execute_result"
    }
   ],
   "source": [
    "# Importing data\n",
    "df = pd.read_excel('data_exam_nomacro.xlsx', sheet_name='stocks')\n",
    "\n",
    "# Problem with dowloading dataset, adding the missing values \n",
    "df.loc[5] = [\"2017-10-31 00:00:00\", 22793.7, 14.84, 16.43, 2.886, 14.04, 49.24]\n",
    "\n",
    "df.head(10)\n",
    "\n"
   ]
  },
  {
   "cell_type": "markdown",
   "metadata": {},
   "source": [
    "Let's **clean** the dataframe a little bit"
   ]
  },
  {
   "cell_type": "code",
   "execution_count": 108,
   "metadata": {
    "scrolled": true
   },
   "outputs": [
    {
     "data": {
      "text/html": [
       "<div>\n",
       "<style scoped>\n",
       "    .dataframe tbody tr th:only-of-type {\n",
       "        vertical-align: middle;\n",
       "    }\n",
       "\n",
       "    .dataframe tbody tr th {\n",
       "        vertical-align: top;\n",
       "    }\n",
       "\n",
       "    .dataframe thead th {\n",
       "        text-align: right;\n",
       "    }\n",
       "</style>\n",
       "<table border=\"1\" class=\"dataframe\">\n",
       "  <thead>\n",
       "    <tr style=\"text-align: right;\">\n",
       "      <th></th>\n",
       "      <th>Dates</th>\n",
       "      <th>FTSEMIB Index</th>\n",
       "      <th>FCA IM Equity</th>\n",
       "      <th>UCG IM Equity</th>\n",
       "      <th>ISP IM Equity</th>\n",
       "      <th>ENI IM Equity</th>\n",
       "      <th>LUX IM Equity</th>\n",
       "    </tr>\n",
       "  </thead>\n",
       "  <tbody>\n",
       "    <tr>\n",
       "      <th>5</th>\n",
       "      <td>2017-10-31 00:00:00</td>\n",
       "      <td>22793.7</td>\n",
       "      <td>14.84</td>\n",
       "      <td>16.43</td>\n",
       "      <td>2.886</td>\n",
       "      <td>14.04</td>\n",
       "      <td>49.24</td>\n",
       "    </tr>\n",
       "    <tr>\n",
       "      <th>6</th>\n",
       "      <td>2017-11-01 00:00:00</td>\n",
       "      <td>22992</td>\n",
       "      <td>15.15</td>\n",
       "      <td>16.46</td>\n",
       "      <td>2.878</td>\n",
       "      <td>14.22</td>\n",
       "      <td>48.98</td>\n",
       "    </tr>\n",
       "    <tr>\n",
       "      <th>7</th>\n",
       "      <td>2017-11-02 00:00:00</td>\n",
       "      <td>23046</td>\n",
       "      <td>15.29</td>\n",
       "      <td>16.76</td>\n",
       "      <td>2.866</td>\n",
       "      <td>14.3</td>\n",
       "      <td>48.7</td>\n",
       "    </tr>\n",
       "    <tr>\n",
       "      <th>8</th>\n",
       "      <td>2017-11-03 00:00:00</td>\n",
       "      <td>23014.1</td>\n",
       "      <td>15.66</td>\n",
       "      <td>16.39</td>\n",
       "      <td>2.85</td>\n",
       "      <td>14.38</td>\n",
       "      <td>48.72</td>\n",
       "    </tr>\n",
       "    <tr>\n",
       "      <th>9</th>\n",
       "      <td>2017-11-06 00:00:00</td>\n",
       "      <td>23002.8</td>\n",
       "      <td>15.59</td>\n",
       "      <td>16.3</td>\n",
       "      <td>2.842</td>\n",
       "      <td>14.5</td>\n",
       "      <td>49.13</td>\n",
       "    </tr>\n",
       "  </tbody>\n",
       "</table>\n",
       "</div>"
      ],
      "text/plain": [
       "                 Dates FTSEMIB Index FCA IM Equity UCG IM Equity  \\\n",
       "5  2017-10-31 00:00:00       22793.7         14.84         16.43   \n",
       "6  2017-11-01 00:00:00         22992         15.15         16.46   \n",
       "7  2017-11-02 00:00:00         23046         15.29         16.76   \n",
       "8  2017-11-03 00:00:00       23014.1         15.66         16.39   \n",
       "9  2017-11-06 00:00:00       23002.8         15.59          16.3   \n",
       "\n",
       "  ISP IM Equity ENI IM Equity LUX IM Equity  \n",
       "5         2.886         14.04         49.24  \n",
       "6         2.878         14.22         48.98  \n",
       "7         2.866          14.3          48.7  \n",
       "8          2.85         14.38         48.72  \n",
       "9         2.842          14.5         49.13  "
      ]
     },
     "execution_count": 108,
     "metadata": {},
     "output_type": "execute_result"
    }
   ],
   "source": [
    "# Changing columns names\n",
    "df.columns = [\"Dates\",\"FTSEMIB Index\",\"FCA IM Equity\",\"UCG IM Equity\",\n",
    "               \"ISP IM Equity\",\"ENI IM Equity\",\"LUX IM Equity\"]\n",
    "\n",
    "# Delete initial rows until useful data\n",
    "df = df[5:]\n",
    "\n",
    "df.head()"
   ]
  },
  {
   "cell_type": "markdown",
   "metadata": {},
   "source": [
    "# 1. Build daily returns for the stock index and for the five stocks"
   ]
  },
  {
   "cell_type": "code",
   "execution_count": 4,
   "metadata": {
    "scrolled": true
   },
   "outputs": [
    {
     "name": "stdout",
     "output_type": "stream",
     "text": [
      "<class 'pandas.core.frame.DataFrame'>\n",
      "RangeIndex: 522 entries, 6 to 527\n",
      "Data columns (total 7 columns):\n",
      " #   Column         Non-Null Count  Dtype \n",
      "---  ------         --------------  ----- \n",
      " 0   Dates          522 non-null    object\n",
      " 1   FTSEMIB Index  522 non-null    object\n",
      " 2   FCA IM Equity  522 non-null    object\n",
      " 3   UCG IM Equity  522 non-null    object\n",
      " 4   ISP IM Equity  522 non-null    object\n",
      " 5   ENI IM Equity  522 non-null    object\n",
      " 6   LUX IM Equity  522 non-null    object\n",
      "dtypes: object(7)\n",
      "memory usage: 28.7+ KB\n"
     ]
    }
   ],
   "source": [
    "# A look at the dataframe\n",
    "df.info()"
   ]
  },
  {
   "cell_type": "markdown",
   "metadata": {},
   "source": [
    "if we want to obtain the returns:\n",
    "    $R_{t,t+1} = \\frac{P_{t+1}}{P_t}, ~ r_{t,t+1} = log(R_{t,t+1}) = log(P_{t+1}/P_t) = log(P_{t+1}) - log(P_t)$"
   ]
  },
  {
   "cell_type": "code",
   "execution_count": 109,
   "metadata": {},
   "outputs": [
    {
     "data": {
      "text/html": [
       "<div>\n",
       "<style scoped>\n",
       "    .dataframe tbody tr th:only-of-type {\n",
       "        vertical-align: middle;\n",
       "    }\n",
       "\n",
       "    .dataframe tbody tr th {\n",
       "        vertical-align: top;\n",
       "    }\n",
       "\n",
       "    .dataframe thead th {\n",
       "        text-align: right;\n",
       "    }\n",
       "</style>\n",
       "<table border=\"1\" class=\"dataframe\">\n",
       "  <thead>\n",
       "    <tr style=\"text-align: right;\">\n",
       "      <th></th>\n",
       "      <th>Dates</th>\n",
       "      <th>FTSEMIB Index</th>\n",
       "      <th>FCA IM Equity</th>\n",
       "      <th>UCG IM Equity</th>\n",
       "      <th>ISP IM Equity</th>\n",
       "      <th>ENI IM Equity</th>\n",
       "      <th>LUX IM Equity</th>\n",
       "      <th>FTSEMIB Index ret</th>\n",
       "      <th>FCA IM Equity ret</th>\n",
       "      <th>UCG IM Equity ret</th>\n",
       "      <th>ISP IM Equity ret</th>\n",
       "      <th>ENI IM Equity ret</th>\n",
       "      <th>LUX IM Equity ret</th>\n",
       "    </tr>\n",
       "  </thead>\n",
       "  <tbody>\n",
       "    <tr>\n",
       "      <th>5</th>\n",
       "      <td>2017-10-31 00:00:00</td>\n",
       "      <td>22793.7</td>\n",
       "      <td>14.84</td>\n",
       "      <td>16.43</td>\n",
       "      <td>2.886</td>\n",
       "      <td>14.04</td>\n",
       "      <td>49.24</td>\n",
       "      <td>NaN</td>\n",
       "      <td>NaN</td>\n",
       "      <td>NaN</td>\n",
       "      <td>NaN</td>\n",
       "      <td>NaN</td>\n",
       "      <td>NaN</td>\n",
       "    </tr>\n",
       "    <tr>\n",
       "      <th>6</th>\n",
       "      <td>2017-11-01 00:00:00</td>\n",
       "      <td>22992</td>\n",
       "      <td>15.15</td>\n",
       "      <td>16.46</td>\n",
       "      <td>2.878</td>\n",
       "      <td>14.22</td>\n",
       "      <td>48.98</td>\n",
       "      <td>0.008699</td>\n",
       "      <td>0.020889</td>\n",
       "      <td>0.001826</td>\n",
       "      <td>-0.002772</td>\n",
       "      <td>0.012821</td>\n",
       "      <td>-0.005280</td>\n",
       "    </tr>\n",
       "    <tr>\n",
       "      <th>7</th>\n",
       "      <td>2017-11-02 00:00:00</td>\n",
       "      <td>23046</td>\n",
       "      <td>15.29</td>\n",
       "      <td>16.76</td>\n",
       "      <td>2.866</td>\n",
       "      <td>14.3</td>\n",
       "      <td>48.7</td>\n",
       "      <td>0.002351</td>\n",
       "      <td>0.009241</td>\n",
       "      <td>0.018226</td>\n",
       "      <td>-0.004170</td>\n",
       "      <td>0.005626</td>\n",
       "      <td>-0.005717</td>\n",
       "    </tr>\n",
       "    <tr>\n",
       "      <th>8</th>\n",
       "      <td>2017-11-03 00:00:00</td>\n",
       "      <td>23014.1</td>\n",
       "      <td>15.66</td>\n",
       "      <td>16.39</td>\n",
       "      <td>2.85</td>\n",
       "      <td>14.38</td>\n",
       "      <td>48.72</td>\n",
       "      <td>-0.001385</td>\n",
       "      <td>0.024199</td>\n",
       "      <td>-0.022076</td>\n",
       "      <td>-0.005583</td>\n",
       "      <td>0.005594</td>\n",
       "      <td>0.000411</td>\n",
       "    </tr>\n",
       "    <tr>\n",
       "      <th>9</th>\n",
       "      <td>2017-11-06 00:00:00</td>\n",
       "      <td>23002.8</td>\n",
       "      <td>15.59</td>\n",
       "      <td>16.3</td>\n",
       "      <td>2.842</td>\n",
       "      <td>14.5</td>\n",
       "      <td>49.13</td>\n",
       "      <td>-0.000490</td>\n",
       "      <td>-0.004470</td>\n",
       "      <td>-0.005491</td>\n",
       "      <td>-0.002807</td>\n",
       "      <td>0.008345</td>\n",
       "      <td>0.008415</td>\n",
       "    </tr>\n",
       "  </tbody>\n",
       "</table>\n",
       "</div>"
      ],
      "text/plain": [
       "                 Dates FTSEMIB Index FCA IM Equity UCG IM Equity  \\\n",
       "5  2017-10-31 00:00:00       22793.7         14.84         16.43   \n",
       "6  2017-11-01 00:00:00         22992         15.15         16.46   \n",
       "7  2017-11-02 00:00:00         23046         15.29         16.76   \n",
       "8  2017-11-03 00:00:00       23014.1         15.66         16.39   \n",
       "9  2017-11-06 00:00:00       23002.8         15.59          16.3   \n",
       "\n",
       "  ISP IM Equity ENI IM Equity LUX IM Equity  FTSEMIB Index ret  \\\n",
       "5         2.886         14.04         49.24                NaN   \n",
       "6         2.878         14.22         48.98           0.008699   \n",
       "7         2.866          14.3          48.7           0.002351   \n",
       "8          2.85         14.38         48.72          -0.001385   \n",
       "9         2.842          14.5         49.13          -0.000490   \n",
       "\n",
       "   FCA IM Equity ret  UCG IM Equity ret  ISP IM Equity ret  ENI IM Equity ret  \\\n",
       "5                NaN                NaN                NaN                NaN   \n",
       "6           0.020889           0.001826          -0.002772           0.012821   \n",
       "7           0.009241           0.018226          -0.004170           0.005626   \n",
       "8           0.024199          -0.022076          -0.005583           0.005594   \n",
       "9          -0.004470          -0.005491          -0.002807           0.008345   \n",
       "\n",
       "   LUX IM Equity ret  \n",
       "5                NaN  \n",
       "6          -0.005280  \n",
       "7          -0.005717  \n",
       "8           0.000411  \n",
       "9           0.008415  "
      ]
     },
     "execution_count": 109,
     "metadata": {},
     "output_type": "execute_result"
    }
   ],
   "source": [
    "# I use the pct_change() func to obtain the returns\n",
    "for i in df.columns[1:]:\n",
    "    df[i + ' ret'] = df[i].pct_change()\n",
    "\n",
    "df.head()\n"
   ]
  },
  {
   "cell_type": "markdown",
   "metadata": {},
   "source": [
    "## 2. Report mean and standard deviation (annualized)"
   ]
  },
  {
   "cell_type": "code",
   "execution_count": 110,
   "metadata": {
    "scrolled": true
   },
   "outputs": [],
   "source": [
    "# I want a datetime object to work on that column\n",
    "df['Dates'] = pd.to_datetime(df['Dates'])"
   ]
  },
  {
   "cell_type": "code",
   "execution_count": 111,
   "metadata": {
    "scrolled": false
   },
   "outputs": [
    {
     "data": {
      "text/html": [
       "<div>\n",
       "<style scoped>\n",
       "    .dataframe tbody tr th:only-of-type {\n",
       "        vertical-align: middle;\n",
       "    }\n",
       "\n",
       "    .dataframe tbody tr th {\n",
       "        vertical-align: top;\n",
       "    }\n",
       "\n",
       "    .dataframe thead th {\n",
       "        text-align: right;\n",
       "    }\n",
       "</style>\n",
       "<table border=\"1\" class=\"dataframe\">\n",
       "  <thead>\n",
       "    <tr style=\"text-align: right;\">\n",
       "      <th></th>\n",
       "      <th>Dates</th>\n",
       "      <th>FTSEMIB Index</th>\n",
       "      <th>FCA IM Equity</th>\n",
       "      <th>UCG IM Equity</th>\n",
       "      <th>ISP IM Equity</th>\n",
       "      <th>ENI IM Equity</th>\n",
       "      <th>LUX IM Equity</th>\n",
       "      <th>FTSEMIB Index ret</th>\n",
       "      <th>FCA IM Equity ret</th>\n",
       "      <th>UCG IM Equity ret</th>\n",
       "      <th>ISP IM Equity ret</th>\n",
       "      <th>ENI IM Equity ret</th>\n",
       "      <th>LUX IM Equity ret</th>\n",
       "    </tr>\n",
       "  </thead>\n",
       "  <tbody>\n",
       "    <tr>\n",
       "      <th>6</th>\n",
       "      <td>2017-11-01</td>\n",
       "      <td>22992</td>\n",
       "      <td>15.15</td>\n",
       "      <td>16.46</td>\n",
       "      <td>2.878</td>\n",
       "      <td>14.22</td>\n",
       "      <td>48.98</td>\n",
       "      <td>0.008699</td>\n",
       "      <td>0.020889</td>\n",
       "      <td>0.001826</td>\n",
       "      <td>-0.002772</td>\n",
       "      <td>0.012821</td>\n",
       "      <td>-0.005280</td>\n",
       "    </tr>\n",
       "    <tr>\n",
       "      <th>7</th>\n",
       "      <td>2017-11-02</td>\n",
       "      <td>23046</td>\n",
       "      <td>15.29</td>\n",
       "      <td>16.76</td>\n",
       "      <td>2.866</td>\n",
       "      <td>14.3</td>\n",
       "      <td>48.7</td>\n",
       "      <td>0.002351</td>\n",
       "      <td>0.009241</td>\n",
       "      <td>0.018226</td>\n",
       "      <td>-0.004170</td>\n",
       "      <td>0.005626</td>\n",
       "      <td>-0.005717</td>\n",
       "    </tr>\n",
       "    <tr>\n",
       "      <th>8</th>\n",
       "      <td>2017-11-03</td>\n",
       "      <td>23014.1</td>\n",
       "      <td>15.66</td>\n",
       "      <td>16.39</td>\n",
       "      <td>2.85</td>\n",
       "      <td>14.38</td>\n",
       "      <td>48.72</td>\n",
       "      <td>-0.001385</td>\n",
       "      <td>0.024199</td>\n",
       "      <td>-0.022076</td>\n",
       "      <td>-0.005583</td>\n",
       "      <td>0.005594</td>\n",
       "      <td>0.000411</td>\n",
       "    </tr>\n",
       "    <tr>\n",
       "      <th>9</th>\n",
       "      <td>2017-11-06</td>\n",
       "      <td>23002.8</td>\n",
       "      <td>15.59</td>\n",
       "      <td>16.3</td>\n",
       "      <td>2.842</td>\n",
       "      <td>14.5</td>\n",
       "      <td>49.13</td>\n",
       "      <td>-0.000490</td>\n",
       "      <td>-0.004470</td>\n",
       "      <td>-0.005491</td>\n",
       "      <td>-0.002807</td>\n",
       "      <td>0.008345</td>\n",
       "      <td>0.008415</td>\n",
       "    </tr>\n",
       "    <tr>\n",
       "      <th>10</th>\n",
       "      <td>2017-11-07</td>\n",
       "      <td>22962.6</td>\n",
       "      <td>15.45</td>\n",
       "      <td>16.23</td>\n",
       "      <td>2.85</td>\n",
       "      <td>14.72</td>\n",
       "      <td>48.58</td>\n",
       "      <td>-0.001750</td>\n",
       "      <td>-0.008980</td>\n",
       "      <td>-0.004294</td>\n",
       "      <td>0.002815</td>\n",
       "      <td>0.015172</td>\n",
       "      <td>-0.011195</td>\n",
       "    </tr>\n",
       "  </tbody>\n",
       "</table>\n",
       "</div>"
      ],
      "text/plain": [
       "        Dates FTSEMIB Index FCA IM Equity UCG IM Equity ISP IM Equity  \\\n",
       "6  2017-11-01         22992         15.15         16.46         2.878   \n",
       "7  2017-11-02         23046         15.29         16.76         2.866   \n",
       "8  2017-11-03       23014.1         15.66         16.39          2.85   \n",
       "9  2017-11-06       23002.8         15.59          16.3         2.842   \n",
       "10 2017-11-07       22962.6         15.45         16.23          2.85   \n",
       "\n",
       "   ENI IM Equity LUX IM Equity  FTSEMIB Index ret  FCA IM Equity ret  \\\n",
       "6          14.22         48.98           0.008699           0.020889   \n",
       "7           14.3          48.7           0.002351           0.009241   \n",
       "8          14.38         48.72          -0.001385           0.024199   \n",
       "9           14.5         49.13          -0.000490          -0.004470   \n",
       "10         14.72         48.58          -0.001750          -0.008980   \n",
       "\n",
       "    UCG IM Equity ret  ISP IM Equity ret  ENI IM Equity ret  LUX IM Equity ret  \n",
       "6            0.001826          -0.002772           0.012821          -0.005280  \n",
       "7            0.018226          -0.004170           0.005626          -0.005717  \n",
       "8           -0.022076          -0.005583           0.005594           0.000411  \n",
       "9           -0.005491          -0.002807           0.008345           0.008415  \n",
       "10          -0.004294           0.002815           0.015172          -0.011195  "
      ]
     },
     "execution_count": 111,
     "metadata": {},
     "output_type": "execute_result"
    }
   ],
   "source": [
    "# Divide the dataframe in 3 for each year\n",
    "df_17 = df[(df['Dates'] >= '2017-11-01') & (df['Dates'] <= '2017-12-31')]\n",
    "df_18 = df[(df['Dates'] >= '2018-01-01') & (df['Dates'] <= '2018-12-31')]\n",
    "df_19 = df[(df['Dates'] >= '2019-01-01') & (df['Dates'] <= '2019-12-31')]\n",
    "\n",
    "df_17.head()"
   ]
  },
  {
   "cell_type": "code",
   "execution_count": 112,
   "metadata": {
    "scrolled": true
   },
   "outputs": [
    {
     "name": "stdout",
     "output_type": "stream",
     "text": [
      "The annualized MEAN of FTSEMIB Index ret in 2017  is: -0.2414\n",
      "The annualized STANDARD DEVIATION of FTSEMIB Index ret in 2017  is: 0.1041\n",
      "\n",
      "The annualized MEAN of FCA IM Equity ret in 2017  is: 0.0532\n",
      "The annualized STANDARD DEVIATION of FCA IM Equity ret in 2017  is: 0.2265\n",
      "\n",
      "The annualized MEAN of UCG IM Equity ret in 2017  is: -0.2824\n",
      "The annualized STANDARD DEVIATION of UCG IM Equity ret in 2017  is: 0.2394\n",
      "\n",
      "The annualized MEAN of ISP IM Equity ret in 2017  is: -0.2284\n",
      "The annualized STANDARD DEVIATION of ISP IM Equity ret in 2017  is: 0.1547\n",
      "\n",
      "The annualized MEAN of ENI IM Equity ret in 2017  is: -0.0943\n",
      "The annualized STANDARD DEVIATION of ENI IM Equity ret in 2017  is: 0.1160\n",
      "\n",
      "The annualized MEAN of LUX IM Equity ret in 2017  is: 0.2367\n",
      "The annualized STANDARD DEVIATION of LUX IM Equity ret in 2017  is: 0.1659\n",
      "\n"
     ]
    }
   ],
   "source": [
    "# For all the return columns I evaluate the mean and the standard deviation and then I annualized them\n",
    "for i in df_17.columns[7:]:\n",
    "    x = np.mean(df_17[i])*252\n",
    "    y = np.std(df_17[i])*np.sqrt(252)\n",
    "    print(\"The annualized MEAN of \" + i + \" in 2017 \" + \" is: \" + '{:.4f}'.format(x))\n",
    "    print(\"The annualized STANDARD DEVIATION of \" + i + \" in 2017 \" + \" is: \" + '{:.4f}'.format(y) + \"\\n\")\n",
    "\n"
   ]
  },
  {
   "cell_type": "code",
   "execution_count": 113,
   "metadata": {
    "scrolled": true
   },
   "outputs": [
    {
     "name": "stdout",
     "output_type": "stream",
     "text": [
      "The annualized MEAN of FTSEMIB Index ret in 2018  is: -0.1538\n",
      "The annualized STANDARD DEVIATION of FTSEMIB Index ret in 2018  is: 0.1798\n",
      "\n",
      "The annualized MEAN of FCA IM Equity ret in 2018  is: -0.0833\n",
      "The annualized STANDARD DEVIATION of FCA IM Equity ret in 2018  is: 0.3796\n",
      "\n",
      "The annualized MEAN of UCG IM Equity ret in 2018  is: -0.3911\n",
      "The annualized STANDARD DEVIATION of UCG IM Equity ret in 2018  is: 0.3058\n",
      "\n",
      "The annualized MEAN of ISP IM Equity ret in 2018  is: -0.3004\n",
      "The annualized STANDARD DEVIATION of ISP IM Equity ret in 2018  is: 0.2935\n",
      "\n",
      "The annualized MEAN of ENI IM Equity ret in 2018  is: 0.0143\n",
      "The annualized STANDARD DEVIATION of ENI IM Equity ret in 2018  is: 0.1896\n",
      "\n",
      "The annualized MEAN of LUX IM Equity ret in 2018  is: 0.0260\n",
      "The annualized STANDARD DEVIATION of LUX IM Equity ret in 2018  is: 0.1770\n",
      "\n"
     ]
    }
   ],
   "source": [
    "for i in df_18.columns[7:]:\n",
    "    x = np.mean(df_18[i])*252\n",
    "    y = np.std(df_18[i])*np.sqrt(252)\n",
    "    print(\"The annualized MEAN of \" + i + \" in 2018 \" + \" is: \" + '{:.4f}'.format(x))\n",
    "    print(\"The annualized STANDARD DEVIATION of \" + i + \" in 2018 \" + \" is: \" + '{:.4f}'.format(y) + \"\\n\")"
   ]
  },
  {
   "cell_type": "code",
   "execution_count": 114,
   "metadata": {
    "scrolled": false
   },
   "outputs": [
    {
     "name": "stdout",
     "output_type": "stream",
     "text": [
      "The annualized MEAN of FTSEMIB Index ret in 2019  is: 0.2576\n",
      "The annualized STANDARD DEVIATION of FTSEMIB Index ret in 2019  is: 0.1498\n",
      "\n",
      "The annualized MEAN of FCA IM Equity ret in 2019  is: 0.1827\n",
      "The annualized STANDARD DEVIATION of FCA IM Equity ret in 2019  is: 0.3495\n",
      "\n",
      "The annualized MEAN of UCG IM Equity ret in 2019  is: 0.2101\n",
      "The annualized STANDARD DEVIATION of UCG IM Equity ret in 2019  is: 0.3354\n",
      "\n",
      "The annualized MEAN of ISP IM Equity ret in 2019  is: 0.1909\n",
      "The annualized STANDARD DEVIATION of ISP IM Equity ret in 2019  is: 0.2333\n",
      "\n",
      "The annualized MEAN of ENI IM Equity ret in 2019  is: 0.0037\n",
      "The annualized STANDARD DEVIATION of ENI IM Equity ret in 2019  is: 0.1710\n",
      "\n",
      "The annualized MEAN of LUX IM Equity ret in 2019  is: -0.0612\n",
      "The annualized STANDARD DEVIATION of LUX IM Equity ret in 2019  is: 0.0386\n",
      "\n"
     ]
    }
   ],
   "source": [
    "for i in df_19.columns[7:]:\n",
    "    x = np.mean(df_19[i])*252\n",
    "    y = np.std(df_19[i])*np.sqrt(252)\n",
    "    print(\"The annualized MEAN of \" + i + \" in 2019 \" + \" is: \" + '{:.4f}'.format(x))\n",
    "    print(\"The annualized STANDARD DEVIATION of \" + i + \" in 2019 \" + \" is: \" + '{:.4f}'.format(y) + \"\\n\")"
   ]
  },
  {
   "cell_type": "markdown",
   "metadata": {},
   "source": [
    "# 3. report additional descriptive statistics that you think are useful (i.e., skewness, kurtosis, etc.).\n"
   ]
  },
  {
   "cell_type": "code",
   "execution_count": 115,
   "metadata": {
    "scrolled": false
   },
   "outputs": [
    {
     "data": {
      "text/html": [
       "<div>\n",
       "<style scoped>\n",
       "    .dataframe tbody tr th:only-of-type {\n",
       "        vertical-align: middle;\n",
       "    }\n",
       "\n",
       "    .dataframe tbody tr th {\n",
       "        vertical-align: top;\n",
       "    }\n",
       "\n",
       "    .dataframe thead th {\n",
       "        text-align: right;\n",
       "    }\n",
       "</style>\n",
       "<table border=\"1\" class=\"dataframe\">\n",
       "  <thead>\n",
       "    <tr style=\"text-align: right;\">\n",
       "      <th></th>\n",
       "      <th>Kurtosis</th>\n",
       "      <th>Skewness</th>\n",
       "    </tr>\n",
       "  </thead>\n",
       "  <tbody>\n",
       "    <tr>\n",
       "      <th>FTSEMIB Index ret</th>\n",
       "      <td>0.864295</td>\n",
       "      <td>-0.212709</td>\n",
       "    </tr>\n",
       "    <tr>\n",
       "      <th>FCA IM Equity ret</th>\n",
       "      <td>7.822372</td>\n",
       "      <td>-0.497436</td>\n",
       "    </tr>\n",
       "    <tr>\n",
       "      <th>UCG IM Equity ret</th>\n",
       "      <td>0.537643</td>\n",
       "      <td>0.091192</td>\n",
       "    </tr>\n",
       "    <tr>\n",
       "      <th>ISP IM Equity ret</th>\n",
       "      <td>4.071160</td>\n",
       "      <td>-0.414558</td>\n",
       "    </tr>\n",
       "    <tr>\n",
       "      <th>ENI IM Equity ret</th>\n",
       "      <td>0.455135</td>\n",
       "      <td>-0.154310</td>\n",
       "    </tr>\n",
       "    <tr>\n",
       "      <th>LUX IM Equity ret</th>\n",
       "      <td>6.854225</td>\n",
       "      <td>0.584294</td>\n",
       "    </tr>\n",
       "  </tbody>\n",
       "</table>\n",
       "</div>"
      ],
      "text/plain": [
       "                   Kurtosis  Skewness\n",
       "FTSEMIB Index ret  0.864295 -0.212709\n",
       "FCA IM Equity ret  7.822372 -0.497436\n",
       "UCG IM Equity ret  0.537643  0.091192\n",
       "ISP IM Equity ret  4.071160 -0.414558\n",
       "ENI IM Equity ret  0.455135 -0.154310\n",
       "LUX IM Equity ret  6.854225  0.584294"
      ]
     },
     "execution_count": 115,
     "metadata": {},
     "output_type": "execute_result"
    }
   ],
   "source": [
    "# I evaluate the skewness and the kurtosis to give some insight to the shape of the distributions\n",
    "kurt = []\n",
    "ske = []\n",
    "for i in df.columns[7:]:\n",
    "    kurt.append(kurtosis(df[i], nan_policy = 'omit'))\n",
    "    ske.append(skew(df[i], nan_policy = 'omit'))\n",
    "\n",
    "ske = np.array(ske) #since skew() doesn't return a list\n",
    "\n",
    "sk = pd.DataFrame(kurt, columns = ['Kurtosis'], index = ['FTSEMIB Index ret', 'FCA IM Equity ret',\n",
    "                                                         'UCG IM Equity ret','ISP IM Equity ret',\n",
    "                                                         'ENI IM Equity ret', 'LUX IM Equity ret'] )\n",
    "sk['Skewness'] = ske\n",
    "\n",
    "sk\n",
    "#The values for asymmetry and kurtosis between -2 and +2 are considered acceptable in order to prove normal univariate distribution (George & Mallery, 2010)\n"
   ]
  },
  {
   "cell_type": "markdown",
   "metadata": {},
   "source": [
    "### Kurtosis \n",
    "is a measure of whether the data are heavy-tailed (**profusion of outliers**) or light-tailed (**lack of outliers**) relative to a normal distribution(**that has a kurtosis of $3$**).\n",
    "\n",
    "### Skewness\n",
    "Skewness is a measure of the asymmetry of the probability distribution of a real-valued random variable about its mean.\n",
    "Bulmer(1979) — a classic — suggests this rule of thumb:\n",
    "\n",
    "- If skewness is less than $−1$ or greater than $+1$, the distribution is **highly skewed**.\n",
    "- If skewness is between $−1$ and $−1/2$ or between $ 1/2$ and $+1$, the distribution is **moderately skewed**.\n",
    "- If skewness is between $-1/2$ and $ 1/2$, the distribution is **approximately symmetric**.\n",
    "\n",
    "In our data we have a polarization for the amount of the outliers $(0.86, 0.53, 0.45)$ and $(4, 6.8, 7.8)$ , while the distributions are **approximately symmetric**, we should expect quasi-normal shape."
   ]
  },
  {
   "cell_type": "code",
   "execution_count": 55,
   "metadata": {},
   "outputs": [
    {
     "data": {
      "text/plain": [
       "Text(0.5, 1.0, 'LUX return')"
      ]
     },
     "execution_count": 55,
     "metadata": {},
     "output_type": "execute_result"
    },
    {
     "data": {
      "image/png": "[encoded data removed]",
      "text/plain": [
       "<Figure size 1224x504 with 6 Axes>"
      ]
     },
     "metadata": {
      "needs_background": "light"
     },
     "output_type": "display_data"
    }
   ],
   "source": [
    "# Start plotting the histogram of the returns \n",
    "plt.figure(figsize=(17,7))\n",
    "plt.subplots_adjust(top = 1.3)# adjust distance between rows\n",
    "ax = plt.subplot(2,3,1)\n",
    "ax.hist(df[\"FTSEMIB Index ret\"],bins = 20,color = 'blue')\n",
    "plt.ylabel('frequency')\n",
    "plt.xlabel('value')\n",
    "plt.title('FTSEMIB return')\n",
    "\n",
    "ax = plt.subplot(2,3,2)\n",
    "ax.hist(df[\"FCA IM Equity ret\"], bins = 20 ,color = 'red')\n",
    "plt.ylabel('frequency')\n",
    "plt.xlabel('value')\n",
    "plt.title('FCA return')\n",
    "\n",
    "ax = plt.subplot(2,3,3)\n",
    "ax.hist(df[\"UCG IM Equity ret\"], bins = 20 ,color = 'yellow')\n",
    "plt.ylabel('frequency')\n",
    "plt.xlabel('value')\n",
    "plt.title('UCG return')\n",
    "\n",
    "ax = plt.subplot(2,3,4)\n",
    "ax.hist(df[\"ISP IM Equity ret\"], bins = 20 ,color = 'green')\n",
    "plt.ylabel('frequency')\n",
    "plt.xlabel('value')\n",
    "plt.title('ISP return')\n",
    "\n",
    "ax = plt.subplot(2,3,5)\n",
    "ax.hist(df[\"ENI IM Equity ret\"], bins = 20 ,color = 'pink')\n",
    "plt.ylabel('frequency')\n",
    "plt.xlabel('value')\n",
    "plt.title('ENI return')\n",
    "\n",
    "ax = plt.subplot(2,3,6)\n",
    "ax.hist(df[\"LUX IM Equity ret\"], bins = 20 ,color = 'purple')\n",
    "plt.ylabel('frequency')\n",
    "plt.xlabel('value')\n",
    "plt.title('LUX return')\n",
    "\n"
   ]
  },
  {
   "cell_type": "markdown",
   "metadata": {},
   "source": [
    "Then I evaluate the **correlation matrix** to see how the returns behave in respect to each other"
   ]
  },
  {
   "cell_type": "code",
   "execution_count": 116,
   "metadata": {},
   "outputs": [
    {
     "data": {
      "text/plain": [
       "array([[1.  , 0.64, 0.76, 0.81, 0.74, 0.33],\n",
       "       [0.64, 1.  , 0.36, 0.42, 0.43, 0.24],\n",
       "       [0.76, 0.36, 1.  , 0.79, 0.47, 0.12],\n",
       "       [0.81, 0.42, 0.79, 1.  , 0.54, 0.15],\n",
       "       [0.74, 0.43, 0.47, 0.54, 1.  , 0.24],\n",
       "       [0.33, 0.24, 0.12, 0.15, 0.24, 1.  ]])"
      ]
     },
     "execution_count": 116,
     "metadata": {},
     "output_type": "execute_result"
    }
   ],
   "source": [
    "cor_mat = df[['FTSEMIB Index ret', 'FCA IM Equity ret','UCG IM Equity ret',\n",
    "              'ISP IM Equity ret','ENI IM Equity ret', 'LUX IM Equity ret']].corr()\n",
    "cor_mat = np.array(cor_mat).round(decimals=2)\n",
    "cor_mat"
   ]
  },
  {
   "cell_type": "code",
   "execution_count": 118,
   "metadata": {
    "scrolled": true
   },
   "outputs": [
    {
     "data": {
      "image/png": "[encoded data removed]",
      "text/plain": [
       "<Figure size 432x288 with 2 Axes>"
      ]
     },
     "metadata": {
      "needs_background": "light"
     },
     "output_type": "display_data"
    }
   ],
   "source": [
    "# Plotting the correlation-matrix\n",
    "retur = ['FTSEMIB Index ret', 'FCA IM Equity ret','UCG IM Equity ret','ISP IM Equity ret','ENI IM Equity ret', 'LUX IM Equity ret']\n",
    "\n",
    "fig, ax = plt.subplots()\n",
    "im = ax.imshow(cor_mat)\n",
    "im.set_clim(-1, 1)\n",
    "ax.grid(False)\n",
    "ax.set_xticks(np.arange(len(retur)))\n",
    "ax.set_yticks(np.arange(len(retur)))\n",
    "ax.set_xticklabels(retur)\n",
    "ax.set_yticklabels(retur)\n",
    "plt.setp(ax.get_xticklabels(), rotation=45, ha=\"right\",rotation_mode=\"anchor\")\n",
    "for i in range(6):\n",
    "    for j in range(6):\n",
    "        ax.text(j, i, cor_mat[i, j], ha='center', va='center',\n",
    "                color='black')\n",
    "cbar = ax.figure.colorbar(im, ax=ax, format='% .2f')\n",
    "plt.show()"
   ]
  },
  {
   "cell_type": "markdown",
   "metadata": {},
   "source": [
    "- From the correlation matrix we can see that almost every index return has a tight relationship with the **FTSEMIB index** (but luxottica)\n",
    "- Only **UCG** and **ISP** seem to be correlated probably because they are from the banking sector"
   ]
  },
  {
   "cell_type": "markdown",
   "metadata": {},
   "source": [
    "# 4. Plot the mean and standard deviation of returns computed over a rolling window of 60 days."
   ]
  },
  {
   "cell_type": "code",
   "execution_count": 119,
   "metadata": {},
   "outputs": [
    {
     "data": {
      "text/html": [
       "<div>\n",
       "<style scoped>\n",
       "    .dataframe tbody tr th:only-of-type {\n",
       "        vertical-align: middle;\n",
       "    }\n",
       "\n",
       "    .dataframe tbody tr th {\n",
       "        vertical-align: top;\n",
       "    }\n",
       "\n",
       "    .dataframe thead th {\n",
       "        text-align: right;\n",
       "    }\n",
       "</style>\n",
       "<table border=\"1\" class=\"dataframe\">\n",
       "  <thead>\n",
       "    <tr style=\"text-align: right;\">\n",
       "      <th></th>\n",
       "      <th>FTSEMIB Index ret</th>\n",
       "      <th>FCA IM Equity ret</th>\n",
       "      <th>UCG IM Equity ret</th>\n",
       "      <th>ISP IM Equity ret</th>\n",
       "      <th>ENI IM Equity ret</th>\n",
       "      <th>LUX IM Equity ret</th>\n",
       "    </tr>\n",
       "  </thead>\n",
       "  <tbody>\n",
       "    <tr>\n",
       "      <th>6</th>\n",
       "      <td>0.008699</td>\n",
       "      <td>0.020889</td>\n",
       "      <td>0.001826</td>\n",
       "      <td>-0.002772</td>\n",
       "      <td>0.012821</td>\n",
       "      <td>-0.005280</td>\n",
       "    </tr>\n",
       "    <tr>\n",
       "      <th>7</th>\n",
       "      <td>0.002351</td>\n",
       "      <td>0.009241</td>\n",
       "      <td>0.018226</td>\n",
       "      <td>-0.004170</td>\n",
       "      <td>0.005626</td>\n",
       "      <td>-0.005717</td>\n",
       "    </tr>\n",
       "    <tr>\n",
       "      <th>8</th>\n",
       "      <td>-0.001385</td>\n",
       "      <td>0.024199</td>\n",
       "      <td>-0.022076</td>\n",
       "      <td>-0.005583</td>\n",
       "      <td>0.005594</td>\n",
       "      <td>0.000411</td>\n",
       "    </tr>\n",
       "    <tr>\n",
       "      <th>9</th>\n",
       "      <td>-0.000490</td>\n",
       "      <td>-0.004470</td>\n",
       "      <td>-0.005491</td>\n",
       "      <td>-0.002807</td>\n",
       "      <td>0.008345</td>\n",
       "      <td>0.008415</td>\n",
       "    </tr>\n",
       "    <tr>\n",
       "      <th>10</th>\n",
       "      <td>-0.001750</td>\n",
       "      <td>-0.008980</td>\n",
       "      <td>-0.004294</td>\n",
       "      <td>0.002815</td>\n",
       "      <td>0.015172</td>\n",
       "      <td>-0.011195</td>\n",
       "    </tr>\n",
       "  </tbody>\n",
       "</table>\n",
       "</div>"
      ],
      "text/plain": [
       "    FTSEMIB Index ret  FCA IM Equity ret  UCG IM Equity ret  \\\n",
       "6            0.008699           0.020889           0.001826   \n",
       "7            0.002351           0.009241           0.018226   \n",
       "8           -0.001385           0.024199          -0.022076   \n",
       "9           -0.000490          -0.004470          -0.005491   \n",
       "10          -0.001750          -0.008980          -0.004294   \n",
       "\n",
       "    ISP IM Equity ret  ENI IM Equity ret  LUX IM Equity ret  \n",
       "6           -0.002772           0.012821          -0.005280  \n",
       "7           -0.004170           0.005626          -0.005717  \n",
       "8           -0.005583           0.005594           0.000411  \n",
       "9           -0.002807           0.008345           0.008415  \n",
       "10           0.002815           0.015172          -0.011195  "
      ]
     },
     "execution_count": 119,
     "metadata": {},
     "output_type": "execute_result"
    }
   ],
   "source": [
    "df_r = df.iloc[:,7:]# select only return columns\n",
    "df_re = df_r.drop(5)# dropping the 5th row full of NaN values\n",
    "df_re.head()"
   ]
  },
  {
   "cell_type": "code",
   "execution_count": 120,
   "metadata": {
    "scrolled": true
   },
   "outputs": [],
   "source": [
    "# Evaluate the mean and the standard deviation with a rolling window of 60 days and add them to the return dataframe\n",
    "for i in df_re.columns:\n",
    "    df_re[i + ' 60d'] = df_re[i].rolling(window=60,center=False).mean()#\n",
    "    \n",
    "for i in df_re.columns[:6]:    \n",
    "    df_re[i + ' vol'] = df_re[i].rolling(window=60,center=False).std()#\n"
   ]
  },
  {
   "cell_type": "code",
   "execution_count": 122,
   "metadata": {
    "scrolled": true
   },
   "outputs": [
    {
     "data": {
      "text/html": [
       "<div>\n",
       "<style scoped>\n",
       "    .dataframe tbody tr th:only-of-type {\n",
       "        vertical-align: middle;\n",
       "    }\n",
       "\n",
       "    .dataframe tbody tr th {\n",
       "        vertical-align: top;\n",
       "    }\n",
       "\n",
       "    .dataframe thead th {\n",
       "        text-align: right;\n",
       "    }\n",
       "</style>\n",
       "<table border=\"1\" class=\"dataframe\">\n",
       "  <thead>\n",
       "    <tr style=\"text-align: right;\">\n",
       "      <th></th>\n",
       "      <th>FTSEMIB Index ret</th>\n",
       "      <th>FCA IM Equity ret</th>\n",
       "      <th>UCG IM Equity ret</th>\n",
       "      <th>ISP IM Equity ret</th>\n",
       "      <th>ENI IM Equity ret</th>\n",
       "      <th>LUX IM Equity ret</th>\n",
       "      <th>FTSEMIB Index ret 60d</th>\n",
       "      <th>FCA IM Equity ret 60d</th>\n",
       "      <th>UCG IM Equity ret 60d</th>\n",
       "      <th>ISP IM Equity ret 60d</th>\n",
       "      <th>ENI IM Equity ret 60d</th>\n",
       "      <th>LUX IM Equity ret 60d</th>\n",
       "      <th>FTSEMIB Index ret vol</th>\n",
       "      <th>FCA IM Equity ret vol</th>\n",
       "      <th>UCG IM Equity ret vol</th>\n",
       "      <th>ISP IM Equity ret vol</th>\n",
       "      <th>ENI IM Equity ret vol</th>\n",
       "      <th>LUX IM Equity ret vol</th>\n",
       "      <th>Dates</th>\n",
       "    </tr>\n",
       "  </thead>\n",
       "  <tbody>\n",
       "    <tr>\n",
       "      <th>523</th>\n",
       "      <td>0.003621</td>\n",
       "      <td>-0.000843</td>\n",
       "      <td>-0.006204</td>\n",
       "      <td>0.000661</td>\n",
       "      <td>-0.006932</td>\n",
       "      <td>0.0</td>\n",
       "      <td>0.001251</td>\n",
       "      <td>0.000295</td>\n",
       "      <td>0.001966</td>\n",
       "      <td>0.002624</td>\n",
       "      <td>0.000499</td>\n",
       "      <td>0.0</td>\n",
       "      <td>0.010744</td>\n",
       "      <td>0.014265</td>\n",
       "      <td>0.021879</td>\n",
       "      <td>0.013671</td>\n",
       "      <td>0.011590</td>\n",
       "      <td>2.293517e-10</td>\n",
       "      <td>2019-10-25</td>\n",
       "    </tr>\n",
       "    <tr>\n",
       "      <th>524</th>\n",
       "      <td>0.003833</td>\n",
       "      <td>0.005233</td>\n",
       "      <td>0.004162</td>\n",
       "      <td>0.002640</td>\n",
       "      <td>-0.007265</td>\n",
       "      <td>0.0</td>\n",
       "      <td>0.001531</td>\n",
       "      <td>0.000437</td>\n",
       "      <td>0.002090</td>\n",
       "      <td>0.002538</td>\n",
       "      <td>0.000622</td>\n",
       "      <td>0.0</td>\n",
       "      <td>0.010584</td>\n",
       "      <td>0.014271</td>\n",
       "      <td>0.021870</td>\n",
       "      <td>0.013654</td>\n",
       "      <td>0.011465</td>\n",
       "      <td>2.293517e-10</td>\n",
       "      <td>2019-10-28</td>\n",
       "    </tr>\n",
       "    <tr>\n",
       "      <th>525</th>\n",
       "      <td>-0.000657</td>\n",
       "      <td>-0.013434</td>\n",
       "      <td>0.010534</td>\n",
       "      <td>-0.002853</td>\n",
       "      <td>-0.007892</td>\n",
       "      <td>0.0</td>\n",
       "      <td>0.001634</td>\n",
       "      <td>0.000081</td>\n",
       "      <td>0.002407</td>\n",
       "      <td>0.002687</td>\n",
       "      <td>0.000609</td>\n",
       "      <td>0.0</td>\n",
       "      <td>0.010531</td>\n",
       "      <td>0.014348</td>\n",
       "      <td>0.021852</td>\n",
       "      <td>0.013543</td>\n",
       "      <td>0.011475</td>\n",
       "      <td>2.293517e-10</td>\n",
       "      <td>2019-10-29</td>\n",
       "    </tr>\n",
       "    <tr>\n",
       "      <th>526</th>\n",
       "      <td>-0.001528</td>\n",
       "      <td>0.095319</td>\n",
       "      <td>-0.018797</td>\n",
       "      <td>-0.010343</td>\n",
       "      <td>-0.009401</td>\n",
       "      <td>0.0</td>\n",
       "      <td>0.001684</td>\n",
       "      <td>0.001761</td>\n",
       "      <td>0.002917</td>\n",
       "      <td>0.002811</td>\n",
       "      <td>0.000689</td>\n",
       "      <td>0.0</td>\n",
       "      <td>0.010509</td>\n",
       "      <td>0.018873</td>\n",
       "      <td>0.020959</td>\n",
       "      <td>0.013386</td>\n",
       "      <td>0.011386</td>\n",
       "      <td>2.293517e-10</td>\n",
       "      <td>2019-10-30</td>\n",
       "    </tr>\n",
       "    <tr>\n",
       "      <th>527</th>\n",
       "      <td>0.001216</td>\n",
       "      <td>0.094328</td>\n",
       "      <td>-0.015674</td>\n",
       "      <td>-0.006226</td>\n",
       "      <td>-0.005840</td>\n",
       "      <td>0.0</td>\n",
       "      <td>0.001459</td>\n",
       "      <td>0.003119</td>\n",
       "      <td>0.002417</td>\n",
       "      <td>0.002399</td>\n",
       "      <td>0.000288</td>\n",
       "      <td>0.0</td>\n",
       "      <td>0.010369</td>\n",
       "      <td>0.022304</td>\n",
       "      <td>0.021040</td>\n",
       "      <td>0.013274</td>\n",
       "      <td>0.011181</td>\n",
       "      <td>2.293517e-10</td>\n",
       "      <td>2019-10-31</td>\n",
       "    </tr>\n",
       "  </tbody>\n",
       "</table>\n",
       "</div>"
      ],
      "text/plain": [
       "     FTSEMIB Index ret  FCA IM Equity ret  UCG IM Equity ret  \\\n",
       "523           0.003621          -0.000843          -0.006204   \n",
       "524           0.003833           0.005233           0.004162   \n",
       "525          -0.000657          -0.013434           0.010534   \n",
       "526          -0.001528           0.095319          -0.018797   \n",
       "527           0.001216           0.094328          -0.015674   \n",
       "\n",
       "     ISP IM Equity ret  ENI IM Equity ret  LUX IM Equity ret  \\\n",
       "523           0.000661          -0.006932                0.0   \n",
       "524           0.002640          -0.007265                0.0   \n",
       "525          -0.002853          -0.007892                0.0   \n",
       "526          -0.010343          -0.009401                0.0   \n",
       "527          -0.006226          -0.005840                0.0   \n",
       "\n",
       "     FTSEMIB Index ret 60d  FCA IM Equity ret 60d  UCG IM Equity ret 60d  \\\n",
       "523               0.001251               0.000295               0.001966   \n",
       "524               0.001531               0.000437               0.002090   \n",
       "525               0.001634               0.000081               0.002407   \n",
       "526               0.001684               0.001761               0.002917   \n",
       "527               0.001459               0.003119               0.002417   \n",
       "\n",
       "     ISP IM Equity ret 60d  ENI IM Equity ret 60d  LUX IM Equity ret 60d  \\\n",
       "523               0.002624               0.000499                    0.0   \n",
       "524               0.002538               0.000622                    0.0   \n",
       "525               0.002687               0.000609                    0.0   \n",
       "526               0.002811               0.000689                    0.0   \n",
       "527               0.002399               0.000288                    0.0   \n",
       "\n",
       "     FTSEMIB Index ret vol  FCA IM Equity ret vol  UCG IM Equity ret vol  \\\n",
       "523               0.010744               0.014265               0.021879   \n",
       "524               0.010584               0.014271               0.021870   \n",
       "525               0.010531               0.014348               0.021852   \n",
       "526               0.010509               0.018873               0.020959   \n",
       "527               0.010369               0.022304               0.021040   \n",
       "\n",
       "     ISP IM Equity ret vol  ENI IM Equity ret vol  LUX IM Equity ret vol  \\\n",
       "523               0.013671               0.011590           2.293517e-10   \n",
       "524               0.013654               0.011465           2.293517e-10   \n",
       "525               0.013543               0.011475           2.293517e-10   \n",
       "526               0.013386               0.011386           2.293517e-10   \n",
       "527               0.013274               0.011181           2.293517e-10   \n",
       "\n",
       "         Dates  \n",
       "523 2019-10-25  \n",
       "524 2019-10-28  \n",
       "525 2019-10-29  \n",
       "526 2019-10-30  \n",
       "527 2019-10-31  "
      ]
     },
     "execution_count": 122,
     "metadata": {},
     "output_type": "execute_result"
    }
   ],
   "source": [
    "# Add the 'Dates' columns\n",
    "df_re['Dates'] = df['Dates']\n",
    "df_re.tail()"
   ]
  },
  {
   "cell_type": "code",
   "execution_count": 123,
   "metadata": {
    "scrolled": true
   },
   "outputs": [
    {
     "data": {
      "text/plain": [
       "Text(0.5, 1.0, 'ISP/ENI/LUX rolling mean 60d')"
      ]
     },
     "execution_count": 123,
     "metadata": {},
     "output_type": "execute_result"
    },
    {
     "data": {
      "image/png": "[encoded data removed]",
      "text/plain": [
       "<Figure size 1224x360 with 2 Axes>"
      ]
     },
     "metadata": {
      "needs_background": "light"
     },
     "output_type": "display_data"
    }
   ],
   "source": [
    "# Plotting the mean \n",
    "plt.figure(figsize=(17,5))\n",
    "ax = plt.subplot(1,2,1)\n",
    "ax.plot(df_re[[\"Dates\"]],df_re[[\"FTSEMIB Index ret 60d\"]],lw=1.5,label='FTSE')\n",
    "ax.plot(df_re[[\"Dates\"]],df_re[[\"FCA IM Equity ret 60d\"]],lw=1.5,label='FCA')\n",
    "ax.plot(df_re[[\"Dates\"]],df_re[[\"UCG IM Equity ret 60d\"]],lw=1.5,label='UCG')\n",
    "plt.grid(True)\n",
    "plt.legend(loc=0)\n",
    "plt.ylabel('return')\n",
    "plt.xlabel('date')\n",
    "plt.title('FTSEMIB/FCA/UCG rolling mean 60d')\n",
    "\n",
    "ax = plt.subplot(1,2,2)\n",
    "ax.plot(df_re[[\"Dates\"]],df_re[[\"ISP IM Equity ret 60d\"]],lw=1.5,label='ISP')\n",
    "ax.plot(df_re[[\"Dates\"]],df_re[[\"ENI IM Equity ret 60d\"]],lw=1.5,label='ENI')\n",
    "ax.plot(df_re[[\"Dates\"]],df_re[[\"LUX IM Equity ret 60d\"]],lw=1.5,label='LUX')\n",
    "plt.grid(True)\n",
    "plt.legend(loc=0)\n",
    "plt.ylabel('return')\n",
    "plt.xlabel('date')\n",
    "plt.title('ISP/ENI/LUX rolling mean 60d')"
   ]
  },
  {
   "cell_type": "code",
   "execution_count": 28,
   "metadata": {
    "scrolled": true
   },
   "outputs": [
    {
     "data": {
      "text/plain": [
       "Text(0.5, 1.0, 'ISP/ENI/LUX rolling std 60d')"
      ]
     },
     "execution_count": 28,
     "metadata": {},
     "output_type": "execute_result"
    },
    {
     "data": {
      "image/png": "[encoded data removed]",
      "text/plain": [
       "<Figure size 1224x360 with 2 Axes>"
      ]
     },
     "metadata": {
      "needs_background": "light"
     },
     "output_type": "display_data"
    }
   ],
   "source": [
    "# Plotting standard deviation\n",
    "plt.figure(figsize=(17,5))\n",
    "ax = plt.subplot(1,2,1)\n",
    "ax.plot(df_re[[\"Dates\"]],df_re[[\"FTSEMIB Index ret vol\"]],lw=1.5,label='FTSE')\n",
    "ax.plot(df_re[[\"Dates\"]],df_re[[\"FCA IM Equity ret vol\"]],lw=1.5,label='FCA')\n",
    "ax.plot(df_re[[\"Dates\"]],df_re[[\"UCG IM Equity ret vol\"]],lw=1.5,label='UCG')\n",
    "plt.grid(True)\n",
    "plt.legend(loc=0)\n",
    "plt.ylabel('std')\n",
    "plt.xlabel('date')\n",
    "plt.title('FTSEMIB/FCA/UCG rolling std 60d')\n",
    "\n",
    "ax = plt.subplot(1,2,2)\n",
    "ax.plot(df_re[[\"Dates\"]],df_re[[\"ISP IM Equity ret vol\"]],lw=1.5,label='ISP')\n",
    "ax.plot(df_re[[\"Dates\"]],df_re[[\"ENI IM Equity ret vol\"]],lw=1.5,label='ENI')\n",
    "ax.plot(df_re[[\"Dates\"]],df_re[[\"LUX IM Equity ret vol\"]],lw=1.5,label='LUX')\n",
    "plt.grid(True)\n",
    "plt.legend(loc=0)\n",
    "plt.ylabel('std')\n",
    "plt.xlabel('date')\n",
    "plt.title('ISP/ENI/LUX rolling std 60d')"
   ]
  },
  {
   "cell_type": "markdown",
   "metadata": {},
   "source": [
    "# 5. for each of the five stock, estimate a OLS regression where the dependent variable are the daily stock returns and the independent variables are the daily returns on the stock index (and a constant). Call the OLS coefficient on the stock index β . Report the β , and the associated p-values at 5% significance level."
   ]
  },
  {
   "cell_type": "code",
   "execution_count": 124,
   "metadata": {},
   "outputs": [
    {
     "name": "stdout",
     "output_type": "stream",
     "text": [
      "<class 'pandas.core.frame.DataFrame'>\n",
      "RangeIndex: 523 entries, 5 to 527\n",
      "Data columns (total 13 columns):\n",
      " #   Column             Non-Null Count  Dtype         \n",
      "---  ------             --------------  -----         \n",
      " 0   Dates              523 non-null    datetime64[ns]\n",
      " 1   FTSEMIB Index      523 non-null    object        \n",
      " 2   FCA IM Equity      523 non-null    object        \n",
      " 3   UCG IM Equity      523 non-null    object        \n",
      " 4   ISP IM Equity      523 non-null    object        \n",
      " 5   ENI IM Equity      523 non-null    object        \n",
      " 6   LUX IM Equity      523 non-null    object        \n",
      " 7   FTSEMIB Index ret  522 non-null    float64       \n",
      " 8   FCA IM Equity ret  522 non-null    float64       \n",
      " 9   UCG IM Equity ret  522 non-null    float64       \n",
      " 10  ISP IM Equity ret  522 non-null    float64       \n",
      " 11  ENI IM Equity ret  522 non-null    float64       \n",
      " 12  LUX IM Equity ret  522 non-null    float64       \n",
      "dtypes: datetime64[ns](1), float64(6), object(6)\n",
      "memory usage: 53.2+ KB\n"
     ]
    }
   ],
   "source": [
    "df.info()"
   ]
  },
  {
   "cell_type": "code",
   "execution_count": 125,
   "metadata": {},
   "outputs": [
    {
     "data": {
      "text/plain": [
       "Dates                0\n",
       "FTSEMIB Index        0\n",
       "FCA IM Equity        0\n",
       "UCG IM Equity        0\n",
       "ISP IM Equity        0\n",
       "ENI IM Equity        0\n",
       "LUX IM Equity        0\n",
       "FTSEMIB Index ret    1\n",
       "FCA IM Equity ret    1\n",
       "UCG IM Equity ret    1\n",
       "ISP IM Equity ret    1\n",
       "ENI IM Equity ret    1\n",
       "LUX IM Equity ret    1\n",
       "dtype: int64"
      ]
     },
     "execution_count": 125,
     "metadata": {},
     "output_type": "execute_result"
    }
   ],
   "source": [
    "# since I found problem estimating the OLS regression due to the NaN values, I look for solving the problem\n",
    "df.isna().sum()\n"
   ]
  },
  {
   "cell_type": "code",
   "execution_count": 126,
   "metadata": {},
   "outputs": [],
   "source": [
    "# Since NaN values are only in daily returns columns we substitute them with the mean values\n",
    "df = df.fillna(df.mean())"
   ]
  },
  {
   "cell_type": "code",
   "execution_count": 127,
   "metadata": {
    "scrolled": true
   },
   "outputs": [
    {
     "name": "stdout",
     "output_type": "stream",
     "text": [
      "                                 OLS Regression Results                                \n",
      "=======================================================================================\n",
      "Dep. Variable:      FCA IM Equity ret   R-squared (uncentered):                   0.403\n",
      "Model:                            OLS   Adj. R-squared (uncentered):              0.402\n",
      "Method:                 Least Squares   F-statistic:                              352.8\n",
      "Date:                Tue, 14 Apr 2020   Prob (F-statistic):                    1.65e-60\n",
      "Time:                        20:45:30   Log-Likelihood:                          1378.3\n",
      "No. Observations:                 523   AIC:                                     -2755.\n",
      "Df Residuals:                     522   BIC:                                     -2750.\n",
      "Df Model:                           1                                                  \n",
      "Covariance Type:            nonrobust                                                  \n",
      "=====================================================================================\n",
      "                        coef    std err          t      P>|t|      [0.025      0.975]\n",
      "-------------------------------------------------------------------------------------\n",
      "FTSEMIB Index ret     1.3894      0.074     18.782      0.000       1.244       1.535\n",
      "==============================================================================\n",
      "Omnibus:                      124.643   Durbin-Watson:                   1.811\n",
      "Prob(Omnibus):                  0.000   Jarque-Bera (JB):             3357.179\n",
      "Skew:                          -0.312   Prob(JB):                         0.00\n",
      "Kurtosis:                      15.396   Cond. No.                         1.00\n",
      "==============================================================================\n",
      "\n",
      "Warnings:\n",
      "[1] Standard Errors assume that the covariance matrix of the errors is correctly specified.\n",
      "\n",
      "the slopeness β of the regression line is:\n",
      "FTSEMIB Index ret    1.389427\n",
      "dtype: float64\n",
      "\n",
      "the p-value at 5% significant level is:\n",
      "FTSEMIB Index ret    1.646909e-60\n",
      "dtype: float64\n"
     ]
    }
   ],
   "source": [
    "# Estimate a OLS regression with FCA to see the output of the OLS\n",
    "mod = smf.OLS(df[[\"FCA IM Equity ret\"]],df[[\"FTSEMIB Index ret\"]]).fit()\n",
    "print(mod.summary())\n",
    "print(\"\\n\" + \"the slopeness β of the regression line is:\")\n",
    "print(mod.params)\n",
    "print(\"\\n\" + \"the p-value at 5% significant level is:\")\n",
    "print(mod.pvalues)"
   ]
  },
  {
   "cell_type": "code",
   "execution_count": 128,
   "metadata": {},
   "outputs": [
    {
     "name": "stdout",
     "output_type": "stream",
     "text": [
      "\n",
      "For UCG IM Equity ret stock\n",
      "\n",
      "the slopeness β of the regression line is:\n",
      "FTSEMIB Index ret    1.469239\n",
      "dtype: float64\n",
      "\n",
      "the p-value at 5% significant level is:\n",
      "FTSEMIB Index ret    1.281190e-100\n",
      "dtype: float64\n",
      "\n",
      "For ISP IM Equity ret stock\n",
      "\n",
      "the slopeness β of the regression line is:\n",
      "FTSEMIB Index ret    1.29487\n",
      "dtype: float64\n",
      "\n",
      "the p-value at 5% significant level is:\n",
      "FTSEMIB Index ret    6.097470e-123\n",
      "dtype: float64\n",
      "\n",
      "For ENI IM Equity ret stock\n",
      "\n",
      "the slopeness β of the regression line is:\n",
      "FTSEMIB Index ret    0.798217\n",
      "dtype: float64\n",
      "\n",
      "the p-value at 5% significant level is:\n",
      "FTSEMIB Index ret    1.899560e-90\n",
      "dtype: float64\n",
      "\n",
      "For LUX IM Equity ret stock\n",
      "\n",
      "the slopeness β of the regression line is:\n",
      "FTSEMIB Index ret    0.276711\n",
      "dtype: float64\n",
      "\n",
      "the p-value at 5% significant level is:\n",
      "FTSEMIB Index ret    7.243908e-15\n",
      "dtype: float64\n"
     ]
    }
   ],
   "source": [
    "# ..then estimate the regression for the other 4 stocks\n",
    "for i in df.columns[9:13]:\n",
    "    mod = smf.OLS(df[[i]],df[[\"FTSEMIB Index ret\"]]).fit()#FTSEMIB Index ret INCREASE BY 1 THEN FCA INCREASES OF 1.3880\n",
    "    print(\"\\n\" + \"For \" + i + \" stock\")\n",
    "    print(\"\\n\" + \"the slopeness β of the regression line is:\") #BETA = COV(X,Y)/VAR(X)\n",
    "    print(mod.params)\n",
    "    print(\"\\n\" + \"the p-value at 5% significant level is:\")\n",
    "    print(mod.pvalues)"
   ]
  },
  {
   "cell_type": "markdown",
   "metadata": {},
   "source": [
    "# 6. Plot the β  of each stock (x-axis) against the average daily stock returns (y-axis)."
   ]
  },
  {
   "cell_type": "code",
   "execution_count": 130,
   "metadata": {},
   "outputs": [
    {
     "name": "stdout",
     "output_type": "stream",
     "text": [
      "[0.00016, -0.00052, -0.00035, 0.0, 3e-05]\n"
     ]
    }
   ],
   "source": [
    "# Estimate the average daily returns \n",
    "df_mean = []\n",
    "for i in df.columns[8:]:\n",
    "    x = np.mean(df[i])\n",
    "    df_mean.append(float(\"{:.5f}\".format(x)))\n",
    "print(df_mean)\n",
    "\n",
    "# beta values from previous results\n",
    "beta = [1.3880,  1.4709, 1.2970, 0.7972 , 0.2779]"
   ]
  },
  {
   "cell_type": "code",
   "execution_count": 134,
   "metadata": {
    "scrolled": true
   },
   "outputs": [
    {
     "data": {
      "text/plain": [
       "Text(0.5, 1.0, 'β against avg daily returns')"
      ]
     },
     "execution_count": 134,
     "metadata": {},
     "output_type": "execute_result"
    },
    {
     "data": {
      "image/png": "[encoded data removed]",
      "text/plain": [
       "<Figure size 432x288 with 1 Axes>"
      ]
     },
     "metadata": {
      "needs_background": "light"
     },
     "output_type": "display_data"
    }
   ],
   "source": [
    "plt.scatter(beta, df_mean)\n",
    "plt.grid(True)\n",
    "plt.ylabel('avg returns')\n",
    "plt.xlabel('beta')\n",
    "plt.title('β against avg daily returns')"
   ]
  },
  {
   "cell_type": "markdown",
   "metadata": {},
   "source": [
    "# Problem 2"
   ]
  },
  {
   "cell_type": "markdown",
   "metadata": {},
   "source": [
    "## 1. plot the yield curve for the first and last available dates, along the average yield curve (recall: the yield curve is a plot of the yield to maturities as function of the zero-coupon bond maturities)."
   ]
  },
  {
   "cell_type": "code",
   "execution_count": 135,
   "metadata": {},
   "outputs": [
    {
     "data": {
      "text/html": [
       "<div>\n",
       "<style scoped>\n",
       "    .dataframe tbody tr th:only-of-type {\n",
       "        vertical-align: middle;\n",
       "    }\n",
       "\n",
       "    .dataframe tbody tr th {\n",
       "        vertical-align: top;\n",
       "    }\n",
       "\n",
       "    .dataframe thead th {\n",
       "        text-align: right;\n",
       "    }\n",
       "</style>\n",
       "<table border=\"1\" class=\"dataframe\">\n",
       "  <thead>\n",
       "    <tr style=\"text-align: right;\">\n",
       "      <th></th>\n",
       "      <th>Start Date</th>\n",
       "      <th>2015-10-30 00:00:00</th>\n",
       "      <th>Unnamed: 2</th>\n",
       "      <th>Unnamed: 3</th>\n",
       "      <th>Unnamed: 4</th>\n",
       "      <th>Unnamed: 5</th>\n",
       "    </tr>\n",
       "  </thead>\n",
       "  <tbody>\n",
       "    <tr>\n",
       "      <th>0</th>\n",
       "      <td>End Date</td>\n",
       "      <td>NaN</td>\n",
       "      <td>NaN</td>\n",
       "      <td>NaN</td>\n",
       "      <td>NaN</td>\n",
       "      <td>NaN</td>\n",
       "    </tr>\n",
       "    <tr>\n",
       "      <th>1</th>\n",
       "      <td>NaN</td>\n",
       "      <td>NaN</td>\n",
       "      <td>NaN</td>\n",
       "      <td>NaN</td>\n",
       "      <td>NaN</td>\n",
       "      <td>NaN</td>\n",
       "    </tr>\n",
       "    <tr>\n",
       "      <th>2</th>\n",
       "      <td>NaN</td>\n",
       "      <td>C9053M Index</td>\n",
       "      <td>C9051Y Index</td>\n",
       "      <td>C9052Y Index</td>\n",
       "      <td>C9055Y Index</td>\n",
       "      <td>C90510Y Index</td>\n",
       "    </tr>\n",
       "    <tr>\n",
       "      <th>3</th>\n",
       "      <td>NaN</td>\n",
       "      <td>NaN</td>\n",
       "      <td>NaN</td>\n",
       "      <td>NaN</td>\n",
       "      <td>NaN</td>\n",
       "      <td>NaN</td>\n",
       "    </tr>\n",
       "    <tr>\n",
       "      <th>4</th>\n",
       "      <td>Dates</td>\n",
       "      <td>PX_LAST</td>\n",
       "      <td>PX_LAST</td>\n",
       "      <td>PX_LAST</td>\n",
       "      <td>PX_LAST</td>\n",
       "      <td>PX_LAST</td>\n",
       "    </tr>\n",
       "    <tr>\n",
       "      <th>5</th>\n",
       "      <td>2015-10-30 00:00:00</td>\n",
       "      <td>-0.0958</td>\n",
       "      <td>-0.0237</td>\n",
       "      <td>0.0739</td>\n",
       "      <td>0.6584</td>\n",
       "      <td>1.6382</td>\n",
       "    </tr>\n",
       "    <tr>\n",
       "      <th>6</th>\n",
       "      <td>2015-11-30 00:00:00</td>\n",
       "      <td>-0.1237</td>\n",
       "      <td>-0.0663</td>\n",
       "      <td>0.0006</td>\n",
       "      <td>0.5409</td>\n",
       "      <td>1.4942</td>\n",
       "    </tr>\n",
       "    <tr>\n",
       "      <th>7</th>\n",
       "      <td>2015-12-31 00:00:00</td>\n",
       "      <td>-0.1985</td>\n",
       "      <td>-0.0751</td>\n",
       "      <td>0.0266</td>\n",
       "      <td>0.6693</td>\n",
       "      <td>1.651</td>\n",
       "    </tr>\n",
       "    <tr>\n",
       "      <th>8</th>\n",
       "      <td>2016-01-29 00:00:00</td>\n",
       "      <td>-0.1311</td>\n",
       "      <td>-0.0809</td>\n",
       "      <td>-0.0194</td>\n",
       "      <td>0.5139</td>\n",
       "      <td>1.5008</td>\n",
       "    </tr>\n",
       "    <tr>\n",
       "      <th>9</th>\n",
       "      <td>2016-02-29 00:00:00</td>\n",
       "      <td>-0.1304</td>\n",
       "      <td>-0.0805</td>\n",
       "      <td>-0.0133</td>\n",
       "      <td>0.4995</td>\n",
       "      <td>1.4785</td>\n",
       "    </tr>\n",
       "  </tbody>\n",
       "</table>\n",
       "</div>"
      ],
      "text/plain": [
       "            Start Date 2015-10-30 00:00:00    Unnamed: 2    Unnamed: 3  \\\n",
       "0             End Date                 NaN           NaN           NaN   \n",
       "1                  NaN                 NaN           NaN           NaN   \n",
       "2                  NaN        C9053M Index  C9051Y Index  C9052Y Index   \n",
       "3                  NaN                 NaN           NaN           NaN   \n",
       "4                Dates             PX_LAST       PX_LAST       PX_LAST   \n",
       "5  2015-10-30 00:00:00             -0.0958       -0.0237        0.0739   \n",
       "6  2015-11-30 00:00:00             -0.1237       -0.0663        0.0006   \n",
       "7  2015-12-31 00:00:00             -0.1985       -0.0751        0.0266   \n",
       "8  2016-01-29 00:00:00             -0.1311       -0.0809       -0.0194   \n",
       "9  2016-02-29 00:00:00             -0.1304       -0.0805       -0.0133   \n",
       "\n",
       "     Unnamed: 4     Unnamed: 5  \n",
       "0           NaN            NaN  \n",
       "1           NaN            NaN  \n",
       "2  C9055Y Index  C90510Y Index  \n",
       "3           NaN            NaN  \n",
       "4       PX_LAST        PX_LAST  \n",
       "5        0.6584         1.6382  \n",
       "6        0.5409         1.4942  \n",
       "7        0.6693          1.651  \n",
       "8        0.5139         1.5008  \n",
       "9        0.4995         1.4785  "
      ]
     },
     "execution_count": 135,
     "metadata": {},
     "output_type": "execute_result"
    }
   ],
   "source": [
    "# Import data\n",
    "fd = pd.read_excel('data_exam_nomacro.xlsx', sheet_name='bonds')\n",
    "\n",
    "# Problems with downloading dataset\n",
    "fd.loc[5] = [\"2015-10-30 00:00:00\", -0.0958, -0.0237, 0.0739, 0.6584, 1.6382]\n",
    "\n",
    "fd.head(10)"
   ]
  },
  {
   "cell_type": "code",
   "execution_count": 136,
   "metadata": {},
   "outputs": [
    {
     "data": {
      "text/html": [
       "<div>\n",
       "<style scoped>\n",
       "    .dataframe tbody tr th:only-of-type {\n",
       "        vertical-align: middle;\n",
       "    }\n",
       "\n",
       "    .dataframe tbody tr th {\n",
       "        vertical-align: top;\n",
       "    }\n",
       "\n",
       "    .dataframe thead th {\n",
       "        text-align: right;\n",
       "    }\n",
       "</style>\n",
       "<table border=\"1\" class=\"dataframe\">\n",
       "  <thead>\n",
       "    <tr style=\"text-align: right;\">\n",
       "      <th></th>\n",
       "      <th>Dates</th>\n",
       "      <th>C9053M Index</th>\n",
       "      <th>C9051Y Index</th>\n",
       "      <th>C9052Y Index</th>\n",
       "      <th>C9055Y Index</th>\n",
       "      <th>C90510Y Index</th>\n",
       "    </tr>\n",
       "  </thead>\n",
       "  <tbody>\n",
       "    <tr>\n",
       "      <th>5</th>\n",
       "      <td>2015-10-30 00:00:00</td>\n",
       "      <td>-0.0958</td>\n",
       "      <td>-0.0237</td>\n",
       "      <td>0.0739</td>\n",
       "      <td>0.6584</td>\n",
       "      <td>1.6382</td>\n",
       "    </tr>\n",
       "    <tr>\n",
       "      <th>6</th>\n",
       "      <td>2015-11-30 00:00:00</td>\n",
       "      <td>-0.1237</td>\n",
       "      <td>-0.0663</td>\n",
       "      <td>0.0006</td>\n",
       "      <td>0.5409</td>\n",
       "      <td>1.4942</td>\n",
       "    </tr>\n",
       "    <tr>\n",
       "      <th>7</th>\n",
       "      <td>2015-12-31 00:00:00</td>\n",
       "      <td>-0.1985</td>\n",
       "      <td>-0.0751</td>\n",
       "      <td>0.0266</td>\n",
       "      <td>0.6693</td>\n",
       "      <td>1.651</td>\n",
       "    </tr>\n",
       "    <tr>\n",
       "      <th>8</th>\n",
       "      <td>2016-01-29 00:00:00</td>\n",
       "      <td>-0.1311</td>\n",
       "      <td>-0.0809</td>\n",
       "      <td>-0.0194</td>\n",
       "      <td>0.5139</td>\n",
       "      <td>1.5008</td>\n",
       "    </tr>\n",
       "    <tr>\n",
       "      <th>9</th>\n",
       "      <td>2016-02-29 00:00:00</td>\n",
       "      <td>-0.1304</td>\n",
       "      <td>-0.0805</td>\n",
       "      <td>-0.0133</td>\n",
       "      <td>0.4995</td>\n",
       "      <td>1.4785</td>\n",
       "    </tr>\n",
       "  </tbody>\n",
       "</table>\n",
       "</div>"
      ],
      "text/plain": [
       "                 Dates C9053M Index C9051Y Index C9052Y Index C9055Y Index  \\\n",
       "5  2015-10-30 00:00:00      -0.0958      -0.0237       0.0739       0.6584   \n",
       "6  2015-11-30 00:00:00      -0.1237      -0.0663       0.0006       0.5409   \n",
       "7  2015-12-31 00:00:00      -0.1985      -0.0751       0.0266       0.6693   \n",
       "8  2016-01-29 00:00:00      -0.1311      -0.0809      -0.0194       0.5139   \n",
       "9  2016-02-29 00:00:00      -0.1304      -0.0805      -0.0133       0.4995   \n",
       "\n",
       "  C90510Y Index  \n",
       "5        1.6382  \n",
       "6        1.4942  \n",
       "7         1.651  \n",
       "8        1.5008  \n",
       "9        1.4785  "
      ]
     },
     "execution_count": 136,
     "metadata": {},
     "output_type": "execute_result"
    }
   ],
   "source": [
    "# Cleaning\n",
    "fd.columns = [\"Dates\",\"C9053M Index\", \"C9051Y Index\",\"C9052Y Index\", \"C9055Y Index\",\"C90510Y Index\" ]\n",
    "fd = fd[5:]\n",
    "fd.head()"
   ]
  },
  {
   "cell_type": "code",
   "execution_count": 137,
   "metadata": {},
   "outputs": [
    {
     "name": "stdout",
     "output_type": "stream",
     "text": [
      "[-0.1848 -0.0707 -0.0161 0.3948 1.3056]\n",
      "[-0.2925 -0.1924 -0.0529 0.4053 1.0733]\n",
      "[-0.22725 -0.02456  0.23403  1.04088  2.03173]\n",
      "['3months', '1year', '2year', '5year', '10year']\n"
     ]
    }
   ],
   "source": [
    "# Get values for the first and last date available, and then get the average values\n",
    "first_date = fd.iloc[5, 1:]\n",
    "last_date = fd.iloc[-1, 1:]\n",
    "\n",
    "avg = []\n",
    "for i in fd.columns[1:]:\n",
    "    avg.append(np.mean(fd[i]))\n",
    "avg = np.round(avg, 5)   \n",
    "\n",
    "bonds = [\"3months\",\"1year\", \"2year\", \"5year\", \"10year\"]\n",
    "first_date = pd.Series(first_date).values\n",
    "last_date = pd.Series(last_date).values\n",
    "print(first_date)\n",
    "print(last_date)\n",
    "print(avg)\n",
    "print(bonds)\n",
    "\n"
   ]
  },
  {
   "cell_type": "code",
   "execution_count": 138,
   "metadata": {},
   "outputs": [
    {
     "data": {
      "text/html": [
       "<div>\n",
       "<style scoped>\n",
       "    .dataframe tbody tr th:only-of-type {\n",
       "        vertical-align: middle;\n",
       "    }\n",
       "\n",
       "    .dataframe tbody tr th {\n",
       "        vertical-align: top;\n",
       "    }\n",
       "\n",
       "    .dataframe thead th {\n",
       "        text-align: right;\n",
       "    }\n",
       "</style>\n",
       "<table border=\"1\" class=\"dataframe\">\n",
       "  <thead>\n",
       "    <tr style=\"text-align: right;\">\n",
       "      <th></th>\n",
       "      <th>first_date</th>\n",
       "      <th>last_date</th>\n",
       "      <th>avg</th>\n",
       "      <th>maturities</th>\n",
       "    </tr>\n",
       "  </thead>\n",
       "  <tbody>\n",
       "    <tr>\n",
       "      <th>0</th>\n",
       "      <td>-0.1848</td>\n",
       "      <td>-0.2925</td>\n",
       "      <td>-0.22725</td>\n",
       "      <td>3months</td>\n",
       "    </tr>\n",
       "    <tr>\n",
       "      <th>1</th>\n",
       "      <td>-0.0707</td>\n",
       "      <td>-0.1924</td>\n",
       "      <td>-0.02456</td>\n",
       "      <td>1year</td>\n",
       "    </tr>\n",
       "    <tr>\n",
       "      <th>2</th>\n",
       "      <td>-0.0161</td>\n",
       "      <td>-0.0529</td>\n",
       "      <td>0.23403</td>\n",
       "      <td>2year</td>\n",
       "    </tr>\n",
       "    <tr>\n",
       "      <th>3</th>\n",
       "      <td>0.3948</td>\n",
       "      <td>0.4053</td>\n",
       "      <td>1.04088</td>\n",
       "      <td>5year</td>\n",
       "    </tr>\n",
       "    <tr>\n",
       "      <th>4</th>\n",
       "      <td>1.3056</td>\n",
       "      <td>1.0733</td>\n",
       "      <td>2.03173</td>\n",
       "      <td>10year</td>\n",
       "    </tr>\n",
       "  </tbody>\n",
       "</table>\n",
       "</div>"
      ],
      "text/plain": [
       "  first_date last_date      avg maturities\n",
       "0    -0.1848   -0.2925 -0.22725    3months\n",
       "1    -0.0707   -0.1924 -0.02456      1year\n",
       "2    -0.0161   -0.0529  0.23403      2year\n",
       "3     0.3948    0.4053  1.04088      5year\n",
       "4     1.3056    1.0733  2.03173     10year"
      ]
     },
     "execution_count": 138,
     "metadata": {},
     "output_type": "execute_result"
    }
   ],
   "source": [
    "# Create 'bond' dataframe to plot \n",
    "bond = pd.DataFrame(first_date,columns = [\"first_date\"] )\n",
    "bond['last_date'] = last_date\n",
    "bond['avg'] = avg\n",
    "bond['maturities'] = bonds\n",
    "bond"
   ]
  },
  {
   "cell_type": "code",
   "execution_count": 139,
   "metadata": {},
   "outputs": [
    {
     "data": {
      "text/plain": [
       "Text(0.5, 1.0, 'Yield Curves')"
      ]
     },
     "execution_count": 139,
     "metadata": {},
     "output_type": "execute_result"
    },
    {
     "data": {
      "image/png": "[encoded data removed]",
      "text/plain": [
       "<Figure size 432x288 with 1 Axes>"
      ]
     },
     "metadata": {
      "needs_background": "light"
     },
     "output_type": "display_data"
    }
   ],
   "source": [
    "# Plotting the dataframe\n",
    "plt.plot(bond['maturities'], bond['first_date'], label = '1st', lw = 2)\n",
    "plt.plot(bond['maturities'], bond['last_date'], label = 'last', lw = 2)\n",
    "plt.plot(bond['maturities'], bond['avg'], label = 'avg yield', lw = 2)\n",
    "plt.plot(bond['maturities'], bond[['first_date', 'last_date', 'avg']], 'ro')\n",
    "plt.grid(True)\n",
    "plt.legend(loc = 0)\n",
    "plt.xlabel(\"bond's maturities\")\n",
    "plt.ylabel(\"yield\")\n",
    "plt.title(\"Yield Curves\")"
   ]
  },
  {
   "cell_type": "markdown",
   "metadata": {},
   "source": [
    "The average yield curve is definitely sloped **positively**"
   ]
  }
 ],
 "metadata": {
  "kernelspec": {
   "display_name": "Python 3",
   "language": "python",
   "name": "python3"
  },
  "language_info": {
   "codemirror_mode": {
    "name": "ipython",
    "version": 3
   },
   "file_extension": ".py",
   "mimetype": "text/x-python",
   "name": "python",
   "nbconvert_exporter": "python",
   "pygments_lexer": "ipython3",
   "version": "3.7.6"
  }
 },
 "nbformat": 4,
 "nbformat_minor": 4
}
